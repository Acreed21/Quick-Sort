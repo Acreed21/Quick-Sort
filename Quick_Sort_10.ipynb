import random
import statistics
import matplotlib.pyplot as plt

def randomquicksort(alist,times):
   comp = [0]
   randomquicksorthelper(alist,0,len(alist)-1,comp)
   times.append(comp[0])
   
def randomquicksorthelper(alist,first,last,comp):
   if first<last:
       r = randompartition(alist,first,last)
       splitpoint = r[0]
       tmp = comp.pop()
       comp.append(tmp+r[1])
       randomquicksorthelper(alist,first,splitpoint-1,comp)
       randomquicksorthelper(alist,splitpoint+1,last,comp)
       
def randompartition(alist,first,last):
   indxpiv = random.randint(first,last)
   temp = alist[indxpiv]
   alist[indxpiv] = alist[first]
   alist[first] = temp
   pivotvalue = alist[first]
   compspart = 0
   leftmark = first+1
   rightmark = last
   done = False
   while not done:
       while leftmark <= rightmark and alist[leftmark] <= pivotvalue:
           leftmark = leftmark + 1
           compspart = compspart + 1
       compspart = compspart + 1
       while alist[rightmark] >= pivotvalue and rightmark >= leftmark:
           rightmark = rightmark -1
           compspart = compspart + 1
       compspart = compspart + 1
       if rightmark < leftmark:
           done = True
       else:
           temp = alist[leftmark]
           alist[leftmark] = alist[rightmark]
           alist[rightmark] = temp
   temp = alist[first]
   alist[first] = alist[rightmark]
   alist[rightmark] = temp
   return rightmark,compspart

def randomquicksorttimedistrib(s,r):
    n=s
    runs=r
    x = []
    for i in range(1,n+1):
        x.append(n+1-i)
    tlist =[]
    for p in range(1,runs+1):
          y = list(x)
          randomquicksort(y,tlist)
    plt.hist(tlist)
    plt.title("Number of comparison of Quicksort for all permutaions")
    plt.xlabel("Comparisons of elements")
    plt.ylabel("Frequency")
    plt.show()
    print("n",n)
    print("runs",runs)
    print("mean",statistics.mean(tlist))
    print("stdev",statistics.stdev(tlist))
    print("min",min(tlist))
    print("max",max(tlist))
    
randomquicksorttimedistrib(16,10000000)


